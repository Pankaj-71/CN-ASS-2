{
 "cells": [
  {
   "cell_type": "code",
   "execution_count": 1,
   "metadata": {},
   "outputs": [],
   "source": [
    "import pandas as pd"
   ]
  },
  {
   "cell_type": "code",
   "execution_count": 2,
   "metadata": {},
   "outputs": [],
   "source": [
    "connection_start = pd.read_csv(\"connection_starts.csv\", delimiter='\\t', names=['RT', 'SI', 'DI', 'SP', 'DP'])\n",
    "connection_end = pd.read_csv(\"connection_ends.csv\", delimiter='\\t', names=['RT', 'SI', 'DI', 'SP', 'DP'])"
   ]
  },
  {
   "cell_type": "code",
   "execution_count": 3,
   "metadata": {},
   "outputs": [
    {
     "data": {
      "text/html": [
       "<div>\n",
       "<style scoped>\n",
       "    .dataframe tbody tr th:only-of-type {\n",
       "        vertical-align: middle;\n",
       "    }\n",
       "\n",
       "    .dataframe tbody tr th {\n",
       "        vertical-align: top;\n",
       "    }\n",
       "\n",
       "    .dataframe thead th {\n",
       "        text-align: right;\n",
       "    }\n",
       "</style>\n",
       "<table border=\"1\" class=\"dataframe\">\n",
       "  <thead>\n",
       "    <tr style=\"text-align: right;\">\n",
       "      <th></th>\n",
       "      <th>RT</th>\n",
       "      <th>SI</th>\n",
       "      <th>DI</th>\n",
       "      <th>SP</th>\n",
       "      <th>DP</th>\n",
       "    </tr>\n",
       "  </thead>\n",
       "  <tbody>\n",
       "    <tr>\n",
       "      <th>0</th>\n",
       "      <td>117.346401</td>\n",
       "      <td>192.168.56.102</td>\n",
       "      <td>192.168.56.104</td>\n",
       "      <td>37426</td>\n",
       "      <td>8080</td>\n",
       "    </tr>\n",
       "    <tr>\n",
       "      <th>1</th>\n",
       "      <td>138.481849</td>\n",
       "      <td>192.168.56.102</td>\n",
       "      <td>192.168.56.104</td>\n",
       "      <td>1463</td>\n",
       "      <td>8080</td>\n",
       "    </tr>\n",
       "    <tr>\n",
       "      <th>2</th>\n",
       "      <td>138.482122</td>\n",
       "      <td>192.168.56.102</td>\n",
       "      <td>192.168.56.104</td>\n",
       "      <td>1464</td>\n",
       "      <td>8080</td>\n",
       "    </tr>\n",
       "  </tbody>\n",
       "</table>\n",
       "</div>"
      ],
      "text/plain": [
       "           RT              SI              DI     SP    DP\n",
       "0  117.346401  192.168.56.102  192.168.56.104  37426  8080\n",
       "1  138.481849  192.168.56.102  192.168.56.104   1463  8080\n",
       "2  138.482122  192.168.56.102  192.168.56.104   1464  8080"
      ]
     },
     "execution_count": 3,
     "metadata": {},
     "output_type": "execute_result"
    }
   ],
   "source": [
    "connection_start.head(3)"
   ]
  },
  {
   "cell_type": "code",
   "execution_count": 4,
   "metadata": {},
   "outputs": [
    {
     "data": {
      "text/html": [
       "<div>\n",
       "<style scoped>\n",
       "    .dataframe tbody tr th:only-of-type {\n",
       "        vertical-align: middle;\n",
       "    }\n",
       "\n",
       "    .dataframe tbody tr th {\n",
       "        vertical-align: top;\n",
       "    }\n",
       "\n",
       "    .dataframe thead th {\n",
       "        text-align: right;\n",
       "    }\n",
       "</style>\n",
       "<table border=\"1\" class=\"dataframe\">\n",
       "  <thead>\n",
       "    <tr style=\"text-align: right;\">\n",
       "      <th></th>\n",
       "      <th>RT</th>\n",
       "      <th>SI</th>\n",
       "      <th>DI</th>\n",
       "      <th>SP</th>\n",
       "      <th>DP</th>\n",
       "    </tr>\n",
       "  </thead>\n",
       "  <tbody>\n",
       "    <tr>\n",
       "      <th>0</th>\n",
       "      <td>138.483416</td>\n",
       "      <td>192.168.56.104</td>\n",
       "      <td>192.168.56.102</td>\n",
       "      <td>8080</td>\n",
       "      <td>1463</td>\n",
       "    </tr>\n",
       "    <tr>\n",
       "      <th>1</th>\n",
       "      <td>138.483417</td>\n",
       "      <td>192.168.56.104</td>\n",
       "      <td>192.168.56.102</td>\n",
       "      <td>8080</td>\n",
       "      <td>1464</td>\n",
       "    </tr>\n",
       "    <tr>\n",
       "      <th>2</th>\n",
       "      <td>138.483418</td>\n",
       "      <td>192.168.56.104</td>\n",
       "      <td>192.168.56.102</td>\n",
       "      <td>8080</td>\n",
       "      <td>1465</td>\n",
       "    </tr>\n",
       "  </tbody>\n",
       "</table>\n",
       "</div>"
      ],
      "text/plain": [
       "           RT              SI              DI    SP    DP\n",
       "0  138.483416  192.168.56.104  192.168.56.102  8080  1463\n",
       "1  138.483417  192.168.56.104  192.168.56.102  8080  1464\n",
       "2  138.483418  192.168.56.104  192.168.56.102  8080  1465"
      ]
     },
     "execution_count": 4,
     "metadata": {},
     "output_type": "execute_result"
    }
   ],
   "source": [
    "connection_end.head(3)"
   ]
  },
  {
   "cell_type": "code",
   "execution_count": 5,
   "metadata": {},
   "outputs": [],
   "source": [
    "connection_start['duration'] = 0"
   ]
  },
  {
   "cell_type": "code",
   "execution_count": null,
   "metadata": {},
   "outputs": [
    {
     "name": "stderr",
     "output_type": "stream",
     "text": [
      "/var/folders/jv/6j759gh52pjg5xgj136xc96w0000gn/T/ipykernel_49510/4191302886.py:51: FutureWarning: Setting an item of incompatible dtype is deprecated and will raise an error in a future version of pandas. Value '[np.float64(0.001566999999994323), np.float64(7.052814000000012), np.float64(21.93356799999998), np.float64(25.715428000000003), np.float64(59.192909000000014), np.float64(68.60786000000002), 100, 100, 100, 100, 100, 100, 100, 100, 100, 100, 100, 100, 100, 100, 100, 100, 100, 100, 100, 100, 100, 100, 100, 100]' has dtype incompatible with int64, please explicitly cast to a compatible dtype first.\n",
      "  connection_start.loc[mask_start, 'duration'] = durations\n"
     ]
    }
   ],
   "source": [
    "processed_rows = []\n",
    "\n",
    "\n",
    "for row in range(len(connection_start)):\n",
    "\n",
    "    if row in processed_rows:\n",
    "        continue\n",
    "\n",
    "    SI = connection_start['SI'][row]\n",
    "    DI = connection_start['DI'][row]\n",
    "    SP = connection_start['SP'][row]\n",
    "    DP = connection_start['DP'][row]\n",
    "    \n",
    "    mask_end = ((connection_end['SI'] == DI) & \n",
    "            (connection_end['DI'] == SI) & \n",
    "            (connection_end['SP'] == DP) & \n",
    "            (connection_end['DP'] == SP))\n",
    "    \n",
    "    mask_start = ((connection_start['SI'] == SI) & \n",
    "            (connection_start['DI'] == DI) & \n",
    "            (connection_start['SP'] == SP) & \n",
    "            (connection_start['DP'] == DP))\n",
    "    \n",
    "    matching_rows_end = connection_end[mask_end]\n",
    "    matching_rows_start = connection_start[mask_start]\n",
    "\n",
    "    matching_indices = connection_start[mask_start].index.tolist()\n",
    "    processed_rows.extend(matching_indices)\n",
    "\n",
    "    start_rt_values = matching_rows_start['RT'].values if not matching_rows_start.empty else []\n",
    "    end_rt_values = matching_rows_end['RT'].values if not matching_rows_end.empty else []\n",
    "    \n",
    "    if not matching_rows_end.empty:\n",
    "\n",
    "        len_start = len(start_rt_values)\n",
    "        len_end = len(end_rt_values)\n",
    "        \n",
    "        durations = []\n",
    "        \n",
    "        min_len = min(len_start, len_end)\n",
    "        for i in range(min_len):\n",
    "            if i < len_end:\n",
    "                duration = end_rt_values[i] - start_rt_values[i]\n",
    "                durations.append(duration)\n",
    "        \n",
    "        max_len = max(len_start, len_end)\n",
    "        for i in range(min_len, max_len):\n",
    "            durations.append(100)\n",
    "        \n",
    "        if durations:\n",
    "            connection_start.loc[mask_start, 'duration'] = durations\n",
    "        else:\n",
    "            connection_start.loc[mask_start, 'duration'] = [100]\n",
    "    else:\n",
    "        connection_start.loc[mask_start, 'duration'] = 100"
   ]
  },
  {
   "cell_type": "code",
   "execution_count": null,
   "metadata": {},
   "outputs": [],
   "source": [
    "connection_start.to_csv(\"duration.csv\")"
   ]
  }
 ],
 "metadata": {
  "kernelspec": {
   "display_name": "AI",
   "language": "python",
   "name": "python3"
  },
  "language_info": {
   "codemirror_mode": {
    "name": "ipython",
    "version": 3
   },
   "file_extension": ".py",
   "mimetype": "text/x-python",
   "name": "python",
   "nbconvert_exporter": "python",
   "pygments_lexer": "ipython3",
   "version": "3.10.16"
  }
 },
 "nbformat": 4,
 "nbformat_minor": 2
}
